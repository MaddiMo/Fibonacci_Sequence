{
 "cells": [
  {
   "cell_type": "code",
   "execution_count": 2,
   "metadata": {},
   "outputs": [
    {
     "name": "stdout",
     "output_type": "stream",
     "text": [
      "How many sequences are gonna be shown? 4\n",
      "Fibonacci sequence: \n",
      "0\n",
      "1\n",
      "1\n",
      "2\n"
     ]
    }
   ],
   "source": [
    "# Python program to display the Fibonacci sequence using a WHILE loop\n",
    "\n",
    "num = int(input(\"How many sequences do you want the algorithm to complete?\"))\n",
    "while num <= 0:\n",
    "    print(\"ERROR. Please enter a positive number.\")\n",
    "    num = int(input(\"How many sequences do you want the algorithm to complete?\"))\n",
    "\n",
    "print(\"How many sequences are gonna be shown?\", num)\n",
    "a, b = 0, 1\n",
    "i = 0\n",
    "if num == 0:\n",
    "    print(\"The Fibonacci sequence will not start.\")\n",
    "if num > 0:\n",
    "    print(\"Fibonacci sequence: \")\n",
    "    while (i < num):\n",
    "        fib = a + b\n",
    "        print(a)\n",
    "        a = b\n",
    "        b = fib\n",
    "        i += 1"
   ]
  },
  {
   "cell_type": "code",
   "execution_count": 3,
   "metadata": {},
   "outputs": [
    {
     "name": "stdout",
     "output_type": "stream",
     "text": [
      "How many sequences are gonna be shown? 19\n",
      "Fibonacci sequence:\n",
      "0\n",
      "1\n",
      "1\n",
      "2\n",
      "3\n",
      "5\n",
      "8\n",
      "13\n",
      "21\n",
      "34\n",
      "55\n",
      "89\n",
      "144\n",
      "233\n",
      "377\n",
      "610\n",
      "987\n",
      "1597\n",
      "2584\n"
     ]
    }
   ],
   "source": [
    "# Python program to display the Fibonacci sequence using RECURSION\n",
    "\n",
    "num = int(input(\"How many sequences do you want the algorithm to complete?\"))\n",
    "\n",
    "def fib_recur(num):\n",
    "    if num <= 1:\n",
    "        return(num)\n",
    "    else:\n",
    "        return(fib_recur(num-1) + fib_recur(num-2))\n",
    "\n",
    "i = 0   \n",
    "while num <= 0:\n",
    "    print(\"ERROR. Please enter a positive number.\")\n",
    "    num = int(input(\"How many sequences do you want the algorithm to complete?\"))\n",
    "else:\n",
    "    print(\"How many sequences are gonna be shown?\", num)\n",
    "    print(\"Fibonacci sequence:\")\n",
    "    while i < num:\n",
    "        print(fib_recur(i))\n",
    "        i += 1\n",
    "\n"
   ]
  }
 ],
 "metadata": {
  "kernelspec": {
   "display_name": "Python 3",
   "language": "python",
   "name": "python3"
  },
  "language_info": {
   "codemirror_mode": {
    "name": "ipython",
    "version": 3
   },
   "file_extension": ".py",
   "mimetype": "text/x-python",
   "name": "python",
   "nbconvert_exporter": "python",
   "pygments_lexer": "ipython3",
   "version": "3.9.6"
  },
  "orig_nbformat": 4,
  "vscode": {
   "interpreter": {
    "hash": "397704579725e15f5c7cb49fe5f0341eb7531c82d19f2c29d197e8b64ab5776b"
   }
  }
 },
 "nbformat": 4,
 "nbformat_minor": 2
}
